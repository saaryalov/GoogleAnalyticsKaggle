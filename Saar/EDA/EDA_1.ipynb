{
 "cells": [
  {
   "cell_type": "code",
   "execution_count": 1,
   "metadata": {},
   "outputs": [],
   "source": [
    "import pandas as pd\n",
    "import sys\n",
    "read_path = \"~/Dropbox (ASU)/Google Analytics/all/\"\n"
   ]
  },
  {
   "cell_type": "code",
   "execution_count": 2,
   "metadata": {},
   "outputs": [],
   "source": [
    "# Set path and get helpers\n",
    "sys.path.append(\"/Users/saaryalov/GoogleAnalyticsKaggle/\")\n"
   ]
  },
  {
   "cell_type": "code",
   "execution_count": 3,
   "metadata": {},
   "outputs": [
    {
     "name": "stdout",
     "output_type": "stream",
     "text": [
      "CPU times: user 12.3 s, sys: 773 ms, total: 13.1 s\n",
      "Wall time: 18 s\n"
     ]
    }
   ],
   "source": [
    "%%time\n",
    "train = pd.read_csv(read_path+\"extracted_fields_train.gz\", dtype={'date': str, 'fullVisitorId': str, 'sessionId':str}, nrows=None)\n",
    "test = pd.read_csv(read_path+\"extracted_fields_test.gz\", dtype={'date': str, 'fullVisitorId': str, 'sessionId':str}, nrows=None)"
   ]
  },
  {
   "cell_type": "code",
   "execution_count": 4,
   "metadata": {},
   "outputs": [
    {
     "data": {
      "text/plain": [
       "Index(['channelGrouping', 'date', 'fullVisitorId', 'sessionId', 'visitId',\n",
       "       'visitNumber', 'visitStartTime', 'device.browser',\n",
       "       'device.deviceCategory', 'device.isMobile', 'device.operatingSystem',\n",
       "       'geoNetwork.city', 'geoNetwork.continent', 'geoNetwork.country',\n",
       "       'geoNetwork.metro', 'geoNetwork.networkDomain', 'geoNetwork.region',\n",
       "       'geoNetwork.subContinent', 'totals.bounces', 'totals.hits',\n",
       "       'totals.newVisits', 'totals.pageviews', 'totals.transactionRevenue',\n",
       "       'trafficSource.adContent', 'trafficSource.campaign',\n",
       "       'trafficSource.isTrueDirect', 'trafficSource.keyword',\n",
       "       'trafficSource.medium', 'trafficSource.referralPath',\n",
       "       'trafficSource.source'],\n",
       "      dtype='object')"
      ]
     },
     "execution_count": 4,
     "metadata": {},
     "output_type": "execute_result"
    }
   ],
   "source": [
    "train.columns"
   ]
  },
  {
   "cell_type": "code",
   "execution_count": 5,
   "metadata": {},
   "outputs": [],
   "source": [
    "train[\"totals.transactionRevenue\"].fillna(0,inplace=True)\n"
   ]
  },
  {
   "cell_type": "code",
   "execution_count": 6,
   "metadata": {},
   "outputs": [],
   "source": [
    "# Change to DateTime\n",
    "for df in [train, test]:\n",
    "    df['date'] = pd.to_datetime(df['visitStartTime'], unit='s')\n",
    "    df['sess_date_dow'] = df['date'].dt.dayofweek\n",
    "    df['sess_date_hours'] = df['date'].dt.hour\n",
    "    df['sess_date_dom'] = df['date'].dt.day\n",
    "    \n",
    "    del df['date']\n",
    "    del df['visitStartTime']\n"
   ]
  },
  {
   "cell_type": "code",
   "execution_count": 7,
   "metadata": {},
   "outputs": [
    {
     "name": "stdout",
     "output_type": "stream",
     "text": [
      "Notice that (903653, 31) is different then used on kernels, it is because in most kernels low variance features were dropped\n"
     ]
    }
   ],
   "source": [
    "print(f\"Notice that {train.shape} is different then used on kernels, it is because in most kernels low variance features were dropped\")"
   ]
  },
  {
   "cell_type": "markdown",
   "metadata": {},
   "source": [
    "# Device FE"
   ]
  },
  {
   "cell_type": "code",
   "execution_count": 8,
   "metadata": {},
   "outputs": [
    {
     "name": "stdout",
     "output_type": "stream",
     "text": [
      "device.browser has levels >0 in : 9 with shape : (54, 3)\n",
      "device.deviceCategory has levels >0 in : 3 with shape : (3, 3)\n",
      "device.isMobile has levels >0 in : 2 with shape : (2, 3)\n",
      "device.operatingSystem has levels >0 in : 7 with shape : (20, 3)\n"
     ]
    }
   ],
   "source": [
    "from helpers import *\n",
    "device_ls = ['device.browser',\n",
    "       'device.deviceCategory', 'device.isMobile', 'device.operatingSystem']\n",
    "for each in device_ls:\n",
    "    result = sort_by_rev(train,each,kind=\"sum\")\n",
    "    sm = sum(result[\"totals.transactionRevenue\"]>0)\n",
    "    print(f\"{each} has levels >0 in : {sm} with shape : {result.shape}\")\n"
   ]
  },
  {
   "cell_type": "code",
   "execution_count": 9,
   "metadata": {},
   "outputs": [
    {
     "data": {
      "text/html": [
       "<div>\n",
       "<style scoped>\n",
       "    .dataframe tbody tr th:only-of-type {\n",
       "        vertical-align: middle;\n",
       "    }\n",
       "\n",
       "    .dataframe tbody tr th {\n",
       "        vertical-align: top;\n",
       "    }\n",
       "\n",
       "    .dataframe thead th {\n",
       "        text-align: right;\n",
       "    }\n",
       "</style>\n",
       "<table border=\"1\" class=\"dataframe\">\n",
       "  <thead>\n",
       "    <tr style=\"text-align: right;\">\n",
       "      <th></th>\n",
       "      <th>device.isMobile</th>\n",
       "      <th>Frequency</th>\n",
       "      <th>totals.transactionRevenue</th>\n",
       "    </tr>\n",
       "  </thead>\n",
       "  <tbody>\n",
       "    <tr>\n",
       "      <th>0</th>\n",
       "      <td>0.0</td>\n",
       "      <td>0.735382</td>\n",
       "      <td>1.480832e+12</td>\n",
       "    </tr>\n",
       "    <tr>\n",
       "      <th>1</th>\n",
       "      <td>1.0</td>\n",
       "      <td>0.264618</td>\n",
       "      <td>5.923961e+10</td>\n",
       "    </tr>\n",
       "  </tbody>\n",
       "</table>\n",
       "</div>"
      ],
      "text/plain": [
       "   device.isMobile  Frequency  totals.transactionRevenue\n",
       "0              0.0   0.735382               1.480832e+12\n",
       "1              1.0   0.264618               5.923961e+10"
      ]
     },
     "execution_count": 9,
     "metadata": {},
     "output_type": "execute_result"
    }
   ],
   "source": [
    "result = sort_by_rev(train,'device.isMobile',kind=\"sum\")\n",
    "result.head(5)"
   ]
  },
  {
   "cell_type": "code",
   "execution_count": 10,
   "metadata": {},
   "outputs": [
    {
     "name": "stdout",
     "output_type": "stream",
     "text": [
      "  device.deviceCategory  Frequency  totals.transactionRevenue\n",
      "0               desktop   0.735325               1.480864e+12\n",
      "1                mobile   0.230979               4.978581e+10\n",
      "2                tablet   0.033695               9.421340e+09\n"
     ]
    }
   ],
   "source": [
    "result = sort_by_rev(train,'device.deviceCategory',kind=\"sum\")\n",
    "print(result.head(5))\n",
    "\n",
    "# device.isMobile is redundent, so remove:\n",
    "del train['device.isMobile']"
   ]
  },
  {
   "cell_type": "code",
   "execution_count": 12,
   "metadata": {},
   "outputs": [
    {
     "name": "stdout",
     "output_type": "stream",
     "text": [
      "Working on channelGrouping\n",
      "Working on device.browser\n",
      "Working on device.deviceCategory\n",
      "Working on device.operatingSystem\n",
      "Working on geoNetwork.city\n",
      "Working on geoNetwork.continent\n",
      "Working on geoNetwork.country\n",
      "Working on geoNetwork.metro\n",
      "Working on geoNetwork.networkDomain\n",
      "Working on geoNetwork.region\n",
      "Working on geoNetwork.subContinent\n",
      "Working on trafficSource.adContent\n",
      "Working on trafficSource.campaign\n",
      "Working on trafficSource.keyword\n",
      "Working on trafficSource.medium\n",
      "Working on trafficSource.referralPath\n",
      "Working on trafficSource.source\n",
      "changing channelGrouping\n",
      "changing device.browser\n",
      "changing device.deviceCategory\n",
      "changing device.operatingSystem\n",
      "changing geoNetwork.city\n"
     ]
    }
   ],
   "source": [
    "from helper.CategoricalLevelSelector import CategoricalLevelSelection\n",
    "cls = CategoricalLevelSelection() \n",
    "cls.fit(train,key=\"fullVisitorId\",cols_to_ignore=[\"sessionId\"],verbose=True)\n",
    "cols = ['channelGrouping', 'fullVisitorId', 'sessionId', 'visitId',\n",
    "       'visitNumber','device.browser',\n",
    "       'device.deviceCategory', 'device.operatingSystem', 'geoNetwork.city',\n",
    "       ]\n",
    "fitted = cls.transform(train[cols],verbose=True)"
   ]
  },
  {
   "cell_type": "code",
   "execution_count": null,
   "metadata": {},
   "outputs": [],
   "source": []
  }
 ],
 "metadata": {
  "kernelspec": {
   "display_name": "Python [conda env:anaconda3]",
   "language": "python",
   "name": "conda-env-anaconda3-py"
  },
  "language_info": {
   "codemirror_mode": {
    "name": "ipython",
    "version": 3
   },
   "file_extension": ".py",
   "mimetype": "text/x-python",
   "name": "python",
   "nbconvert_exporter": "python",
   "pygments_lexer": "ipython3",
   "version": "3.6.5"
  }
 },
 "nbformat": 4,
 "nbformat_minor": 2
}
