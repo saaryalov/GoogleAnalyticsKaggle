{
 "cells": [
  {
   "cell_type": "code",
   "execution_count": 1,
   "metadata": {},
   "outputs": [],
   "source": [
    "import pandas as pd\n",
    "import sys\n",
    "read_path = \"~/Dropbox (ASU)/Google Analytics/all/\"\n"
   ]
  },
  {
   "cell_type": "code",
   "execution_count": 2,
   "metadata": {},
   "outputs": [],
   "source": [
    "# Set path and get helpers\n",
    "sys.path.append(\"/Users/saaryalov/GoogleAnalyticsKaggle/\")\n"
   ]
  },
  {
   "cell_type": "code",
   "execution_count": 3,
   "metadata": {},
   "outputs": [
    {
     "name": "stdout",
     "output_type": "stream",
     "text": [
      "CPU times: user 12.4 s, sys: 870 ms, total: 13.3 s\n",
      "Wall time: 12.1 s\n"
     ]
    }
   ],
   "source": [
    "%%time\n",
    "train = pd.read_csv(read_path+\"extracted_fields_train.gz\", dtype={'date': str, 'fullVisitorId': str, 'sessionId':str}, nrows=None)\n",
    "test = pd.read_csv(read_path+\"extracted_fields_test.gz\", dtype={'date': str, 'fullVisitorId': str, 'sessionId':str}, nrows=None)"
   ]
  },
  {
   "cell_type": "code",
   "execution_count": 4,
   "metadata": {},
   "outputs": [
    {
     "data": {
      "text/plain": [
       "Index(['channelGrouping', 'date', 'fullVisitorId', 'sessionId', 'visitId',\n",
       "       'visitNumber', 'visitStartTime', 'device.browser',\n",
       "       'device.deviceCategory', 'device.isMobile', 'device.operatingSystem',\n",
       "       'geoNetwork.city', 'geoNetwork.continent', 'geoNetwork.country',\n",
       "       'geoNetwork.metro', 'geoNetwork.networkDomain', 'geoNetwork.region',\n",
       "       'geoNetwork.subContinent', 'totals.bounces', 'totals.hits',\n",
       "       'totals.newVisits', 'totals.pageviews', 'totals.transactionRevenue',\n",
       "       'trafficSource.adContent', 'trafficSource.campaign',\n",
       "       'trafficSource.isTrueDirect', 'trafficSource.keyword',\n",
       "       'trafficSource.medium', 'trafficSource.referralPath',\n",
       "       'trafficSource.source'],\n",
       "      dtype='object')"
      ]
     },
     "execution_count": 4,
     "metadata": {},
     "output_type": "execute_result"
    }
   ],
   "source": [
    "train.columns"
   ]
  },
  {
   "cell_type": "code",
   "execution_count": 5,
   "metadata": {},
   "outputs": [],
   "source": [
    "train[\"totals.transactionRevenue\"].fillna(0,inplace=True)\n"
   ]
  },
  {
   "cell_type": "code",
   "execution_count": 6,
   "metadata": {},
   "outputs": [],
   "source": [
    "# Change to DateTime\n",
    "for df in [train, test]:\n",
    "    df['date'] = pd.to_datetime(df['visitStartTime'], unit='s')\n",
    "    df['sess_date_dow'] = df['date'].dt.dayofweek\n",
    "    df['sess_date_hours'] = df['date'].dt.hour\n",
    "    df['sess_date_dom'] = df['date'].dt.day\n",
    "    \n",
    "    del df['date']\n",
    "    del df['visitStartTime']\n"
   ]
  },
  {
   "cell_type": "code",
   "execution_count": 7,
   "metadata": {},
   "outputs": [
    {
     "name": "stdout",
     "output_type": "stream",
     "text": [
      "Notice that (903653, 31) is different then used on kernels, it is because in most kernels low variance features were dropped\n"
     ]
    }
   ],
   "source": [
    "print(f\"Notice that {train.shape} is different then used on kernels, it is because in most kernels low variance features were dropped\")"
   ]
  },
  {
   "cell_type": "markdown",
   "metadata": {},
   "source": [
    "# Device FE"
   ]
  },
  {
   "cell_type": "code",
   "execution_count": 8,
   "metadata": {},
   "outputs": [
    {
     "name": "stdout",
     "output_type": "stream",
     "text": [
      "device.browser has levels >0 in : 9 with shape : (54, 3)\n",
      "device.deviceCategory has levels >0 in : 3 with shape : (3, 3)\n",
      "device.isMobile has levels >0 in : 2 with shape : (2, 3)\n",
      "device.operatingSystem has levels >0 in : 7 with shape : (20, 3)\n"
     ]
    }
   ],
   "source": [
    "from helpers import *\n",
    "device_ls = ['device.browser',\n",
    "       'device.deviceCategory', 'device.isMobile', 'device.operatingSystem']\n",
    "for each in device_ls:\n",
    "    result = sort_by_rev(train,each,kind=\"sum\")\n",
    "    sm = sum(result[\"totals.transactionRevenue\"]>0)\n",
    "    print(f\"{each} has levels >0 in : {sm} with shape : {result.shape}\")\n"
   ]
  },
  {
   "cell_type": "markdown",
   "metadata": {},
   "source": [
    "## Operating System"
   ]
  },
  {
   "cell_type": "code",
   "execution_count": 9,
   "metadata": {},
   "outputs": [],
   "source": [
    "# Manual FE\n",
    "def manual_ohe(col,level,name=None):\n",
    "    # The goal of this function is to manually OHE features \n",
    "    assert isinstance(col,str)\n",
    "    if isinstance(level,str):\n",
    "        level = level.replace(\" \",\"_\")\n",
    "        train[col+\"__\"+level] = train[col].map(lambda x: (x == level)*1)\n",
    "        test[col+\"__\"+level] = test[col].map(lambda x: (x == level)*1)\n",
    "    elif isinstance(level,list):\n",
    "        train[col+\"__\"+name] = train[col].map(lambda x: (x in level)*1)\n",
    "        test[col+\"__\"+name] = train[col].map(lambda x: (x in level)*1)\n",
    "    else:\n",
    "        print(\"ERROR!\")"
   ]
  },
  {
   "cell_type": "code",
   "execution_count": 10,
   "metadata": {},
   "outputs": [],
   "source": [
    "computer = [\"Windows\",\"Macintosh\",\"Linux\",\"Chrome OS \",'Firefox OS',\"FreeBSD\",\"SunOS\",'OpenBSD']\n",
    "phone = [\"Android\",\"iOS\",\"Windows Phone\",\"Samsung\",'BlackBerry','Nokia',\"NTT DoCoMo\"]\n",
    "gaming = ['Xbox','Nintendo Wii','Nintendo WiiU','Nintendo 3DS']\n",
    "other = [\"(not set)\"]\n",
    "\n",
    "def os_mapping(row):\n",
    "    # The goal of this function is to map values for a new bucketed OS feature\n",
    "    if row in computer:\n",
    "        row = \"Computer\"\n",
    "    elif row in phone:\n",
    "        row = \"Phone\"\n",
    "    elif row in gaming:\n",
    "        row = \"Gaming\"\n",
    "    else:\n",
    "        row = \"Other\"\n",
    "    return row\n",
    "train[\"device.operatingSystem__Bucket\"] = train[\"device.operatingSystem\"].map(os_mapping)\n",
    "test[\"device.operatingSystem__Bucket\"] = test[\"device.operatingSystem\"].map(os_mapping)\n",
    "\n",
    "\n",
    "   \n",
    "# Manual FE\n",
    "\n",
    "is_linux_based = [\"Linux\",\"FreeBSD\",\"SunOS\",'OpenBSD']\n",
    "manual_ohe(\"device.operatingSystem\",is_linux_based,\"Linux\")\n",
    "\n",
    "\n",
    "\n",
    "to_ohe = [\"Macintosh\",\"iOS\",\"Windows\",\"Android\",\"Chrome OS\"]\n",
    "for level in to_ohe:\n",
    "    manual_ohe(\"device.operatingSystem\",level)\n",
    "\n",
    "# Other useful features?    \n",
    "train[\"device.operatingSystem__Apple\"] = train[\"device.operatingSystem__Macintosh\"]+train[\"device.operatingSystem__iOS\"]\n",
    "train[\"device.operatingSystem__Google\"] = train[\"device.operatingSystem__Android\"]+train[\"device.operatingSystem__Chrome_OS\"]\n",
    "\n",
    "test[\"device.operatingSystem__Apple\"] = train[\"device.operatingSystem__Macintosh\"]+train[\"device.operatingSystem__iOS\"]\n",
    "test[\"device.operatingSystem__Google\"] = train[\"device.operatingSystem__Android\"]+train[\"device.operatingSystem__Chrome_OS\"]\n"
   ]
  },
  {
   "cell_type": "code",
   "execution_count": 11,
   "metadata": {},
   "outputs": [
    {
     "data": {
      "text/html": [
       "<div>\n",
       "<style scoped>\n",
       "    .dataframe tbody tr th:only-of-type {\n",
       "        vertical-align: middle;\n",
       "    }\n",
       "\n",
       "    .dataframe tbody tr th {\n",
       "        vertical-align: top;\n",
       "    }\n",
       "\n",
       "    .dataframe thead th {\n",
       "        text-align: right;\n",
       "    }\n",
       "</style>\n",
       "<table border=\"1\" class=\"dataframe\">\n",
       "  <thead>\n",
       "    <tr style=\"text-align: right;\">\n",
       "      <th></th>\n",
       "      <th>device.browser</th>\n",
       "      <th>Frequency</th>\n",
       "      <th>totals.transactionRevenue</th>\n",
       "    </tr>\n",
       "  </thead>\n",
       "  <tbody>\n",
       "    <tr>\n",
       "      <th>0</th>\n",
       "      <td>Chrome</td>\n",
       "      <td>0.686507</td>\n",
       "      <td>1.383105e+12</td>\n",
       "    </tr>\n",
       "    <tr>\n",
       "      <th>1</th>\n",
       "      <td>Safari</td>\n",
       "      <td>0.201676</td>\n",
       "      <td>5.239748e+10</td>\n",
       "    </tr>\n",
       "    <tr>\n",
       "      <th>2</th>\n",
       "      <td>Firefox</td>\n",
       "      <td>0.041021</td>\n",
       "      <td>8.931632e+10</td>\n",
       "    </tr>\n",
       "    <tr>\n",
       "      <th>3</th>\n",
       "      <td>Internet Explorer</td>\n",
       "      <td>0.021441</td>\n",
       "      <td>8.255550e+09</td>\n",
       "    </tr>\n",
       "    <tr>\n",
       "      <th>4</th>\n",
       "      <td>Edge</td>\n",
       "      <td>0.011293</td>\n",
       "      <td>6.482970e+09</td>\n",
       "    </tr>\n",
       "    <tr>\n",
       "      <th>5</th>\n",
       "      <td>Android Webview</td>\n",
       "      <td>0.008704</td>\n",
       "      <td>1.148500e+08</td>\n",
       "    </tr>\n",
       "    <tr>\n",
       "      <th>6</th>\n",
       "      <td>Safari (in-app)</td>\n",
       "      <td>0.007580</td>\n",
       "      <td>1.537700e+08</td>\n",
       "    </tr>\n",
       "    <tr>\n",
       "      <th>7</th>\n",
       "      <td>Opera Mini</td>\n",
       "      <td>0.006794</td>\n",
       "      <td>0.000000e+00</td>\n",
       "    </tr>\n",
       "    <tr>\n",
       "      <th>8</th>\n",
       "      <td>Opera</td>\n",
       "      <td>0.006245</td>\n",
       "      <td>2.153500e+08</td>\n",
       "    </tr>\n",
       "    <tr>\n",
       "      <th>9</th>\n",
       "      <td>UC Browser</td>\n",
       "      <td>0.002686</td>\n",
       "      <td>0.000000e+00</td>\n",
       "    </tr>\n",
       "  </tbody>\n",
       "</table>\n",
       "</div>"
      ],
      "text/plain": [
       "      device.browser  Frequency  totals.transactionRevenue\n",
       "0             Chrome   0.686507               1.383105e+12\n",
       "1             Safari   0.201676               5.239748e+10\n",
       "2            Firefox   0.041021               8.931632e+10\n",
       "3  Internet Explorer   0.021441               8.255550e+09\n",
       "4               Edge   0.011293               6.482970e+09\n",
       "5    Android Webview   0.008704               1.148500e+08\n",
       "6    Safari (in-app)   0.007580               1.537700e+08\n",
       "7         Opera Mini   0.006794               0.000000e+00\n",
       "8              Opera   0.006245               2.153500e+08\n",
       "9         UC Browser   0.002686               0.000000e+00"
      ]
     },
     "execution_count": 11,
     "metadata": {},
     "output_type": "execute_result"
    }
   ],
   "source": [
    "sort_by_rev(train,'device.browser',kind=\"sum\").head(10)\n",
    "# We can let categorical level selection handle this"
   ]
  },
  {
   "cell_type": "markdown",
   "metadata": {},
   "source": [
    "# geoNetwork"
   ]
  },
  {
   "cell_type": "code",
   "execution_count": 12,
   "metadata": {},
   "outputs": [
    {
     "name": "stdout",
     "output_type": "stream",
     "text": [
      "geoNetwork.city has levels >0 in : 134 with shape : (649, 3) or 20.65%\n",
      "geoNetwork.continent has levels >0 in : 6 with shape : (6, 3) or 100.0%\n",
      "geoNetwork.country has levels >0 in : 69 with shape : (222, 3) or 31.080000000000002%\n",
      "geoNetwork.metro has levels >0 in : 46 with shape : (94, 3) or 48.94%\n",
      "geoNetwork.networkDomain has levels >0 in : 732 with shape : (28064, 3) or 2.6100000000000003%\n",
      "geoNetwork.region has levels >0 in : 79 with shape : (376, 3) or 21.01%\n",
      "geoNetwork.subContinent has levels >0 in : 19 with shape : (23, 3) or 82.61%\n"
     ]
    }
   ],
   "source": [
    "geo_list = ['geoNetwork.city', 'geoNetwork.continent', 'geoNetwork.country',\n",
    "       'geoNetwork.metro', 'geoNetwork.networkDomain', 'geoNetwork.region',\n",
    "       'geoNetwork.subContinent']\n",
    "for each in geo_list:\n",
    "    result = sort_by_rev(train,each,kind=\"sum\")\n",
    "    sm = sum(result[\"totals.transactionRevenue\"]>0)\n",
    "    print(f\"{each} has levels >0 in : {sm} with shape : {result.shape} or {round(sm/result.shape[0],4)*100}%\")"
   ]
  },
  {
   "cell_type": "markdown",
   "metadata": {},
   "source": [
    "## geoNetwork.city\n",
    "\n",
    "We can also include external information such as income in city, number of big tech jobs in city, number of universities in city. Etc etc..\n",
    "\n",
    "Taken from https://www.google.com/about/locations/?region=north-america&office=mountain-view\n"
   ]
  },
  {
   "cell_type": "code",
   "execution_count": 13,
   "metadata": {},
   "outputs": [],
   "source": [
    "def geo_by_size_spenders(col):\n",
    "    # By Size\n",
    "    print(\"Working on size for \",col)\n",
    "    sorted_size = sort_by_rev(train,col,kind=\"sum\").loc[0:50,]\n",
    "    top_10_size = sorted_size.loc[0:10,col].tolist()\n",
    "    top_25_size = sorted_size.loc[0:25,col].tolist()\n",
    "    top_50_size = sorted_size.loc[0:50,col].tolist()\n",
    "    \n",
    "    # By Spending\n",
    "    print(\"Working on spending for \", col)\n",
    "    sorted_rev = sorted_size.sort_values(\"totals.transactionRevenue\",ascending=False)\n",
    "    top_10_spenders = sorted_rev.loc[0:10,col].tolist()\n",
    "    top_25_spenders = sorted_rev.loc[0:25,col].tolist()\n",
    "    top_50_spenders = sorted_rev.loc[0:50,col].tolist()\n",
    "    \n",
    "    # Make Features\n",
    "    print(\"Making Features size features for \", col)\n",
    "    manual_ohe(col,top_10_size,\"top_10_size\")\n",
    "    manual_ohe(col,top_25_size,\"top_25_size\")\n",
    "    manual_ohe(col,top_50_size,\"top_50_size\")\n",
    "    \n",
    "    print(\"Making Features spending features for \", col)\n",
    "    manual_ohe(col,top_10_spenders,\"top_10_spenders\")\n",
    "    manual_ohe(col,top_25_spenders,\"top_25_spenders\")\n",
    "    manual_ohe(col,top_50_spenders,\"top_50_spenders\")"
   ]
  },
  {
   "cell_type": "code",
   "execution_count": 14,
   "metadata": {},
   "outputs": [
    {
     "name": "stdout",
     "output_type": "stream",
     "text": [
      "Working on size for  geoNetwork.city\n",
      "Working on spending for  geoNetwork.city\n",
      "Making Features size features for  geoNetwork.city\n",
      "Making Features spending features for  geoNetwork.city\n"
     ]
    }
   ],
   "source": [
    "# Make geo by size feature\n",
    "geo_by_size_spenders(\"geoNetwork.city\")\n",
    "\n",
    "# Make Silicon Valey Feature\n",
    "silicon_valey = [\"Mountain View\",\"San Francisco\",\"Sunnyvale\",\"San Jose\",\"Palo Alto\"]\n",
    "manual_ohe(\"geoNetwork.city\",silicon_valey,\"silicon_valey\")\n",
    "\n",
    "\n",
    "# Has Google Office FE features\n",
    "has_google_office_north_america = [\"Ann Arbor\",\"Atlanta\",\"Austin\",\n",
    "                         \"Boulder\",\"Cambridge\",\"Chapel Hill\",\"Chicago\",\"Irvine\"\n",
    "                        \"Kirkland\",\"Los Angeles\",\"Kitchener\",\"Miami\",\"Montreal\",\"Mountain View\"\n",
    "                                   \"New York\",\"Pittsburgh\",\"Playa Vista\",\"Reston\",\"San Bruno\",\"San Diego\",\"San Francisco\",\n",
    "                                   \"Seattle\",\"Sunnyvale\",\"Toronto\",\"Washington DC\"]\n",
    "has_google_office_latin_america = [\"Belo Horizonte\",\"Bogota\",\"Buenos Aires\",\"Mexico City\"\n",
    "                                  \"Santiago\",\"Sao Paulo\"]   \n",
    "has_google_office_europe = [\"Aarhus\",\"Amsterdam\",\"Athens\",\"Berlin\",\"Brussels\",\"Copenhagen\",\n",
    "                           \"Dublin\",\"Hamburg\",\"Lisbon\",\"London\",\"Madrid\",\"Milan\",\"Moscow\",\"Munich\",\"Oslo\",\"Paris\",\n",
    "                           \"Prague\",\"Stockholm\",\"Vienna\",\"Warsaw\",\"Wroclaw\",\"Zurich\"]\n",
    "has_google_office_asia = [\"Bangalore\",\"Bangkok\",\"Beijing\",\"Guangzhou\",\"Gurgaon\",\"Hong Kong\",\"Hyderabad\",\n",
    "                         \"Jakarta\",\"Kuala Lumpur\",\"Melbourne\",\"Mumbai\",\"Seoul\",\"Shanghai\",\"Singapore\",\n",
    "                          \"Sydney\",\"Taipei\",\"Tokyo\"]\n",
    "has_google_office_middle_east = [\"Dubai\",\"Haifa\",\"Istanbul\",\"Johannesburg\",\"Tel Aviv\"]\n",
    "\n",
    "# Manual OHE       \n",
    "manual_ohe(\"geoNetwork.city\",has_google_office_north_america,\"google_at_north_america\")\n",
    "manual_ohe(\"geoNetwork.city\",has_google_office_latin_america,\"google_at_latin_america\")\n",
    "manual_ohe(\"geoNetwork.city\",has_google_office_europe,\"google_at_europe\")\n",
    "manual_ohe(\"geoNetwork.city\",has_google_office_asia,\"google_at_asia\")\n",
    "manual_ohe(\"geoNetwork.city\",has_google_office_middle_east,\"google_at_middle_east\")\n",
    "\n",
    "# Sum of all\n",
    "train[\"geoNetwork.city__has_google\"] = train[\"geoNetwork.city__google_at_north_america\"]+train[\"geoNetwork.city__google_at_latin_america\"] + train[\"geoNetwork.city__google_at_europe\"] +train[\"geoNetwork.city__google_at_asia\"] + train[\"geoNetwork.city__google_at_middle_east\"] \n",
    "test[\"geoNetwork.city__has_google\"] = test[\"geoNetwork.city__google_at_north_america\"] + test[\"geoNetwork.city__google_at_latin_america\"]+ test[\"geoNetwork.city__google_at_europe\"] +test[\"geoNetwork.city__google_at_asia\"] + test[\"geoNetwork.city__google_at_middle_east\"] \n"
   ]
  },
  {
   "cell_type": "markdown",
   "metadata": {},
   "source": [
    "## geoNetwork.country"
   ]
  },
  {
   "cell_type": "code",
   "execution_count": 15,
   "metadata": {},
   "outputs": [
    {
     "name": "stdout",
     "output_type": "stream",
     "text": [
      "Working on size for  geoNetwork.country\n",
      "Working on spending for  geoNetwork.country\n",
      "Making Features size features for  geoNetwork.country\n",
      "Making Features spending features for  geoNetwork.country\n"
     ]
    }
   ],
   "source": [
    "# Make geo by size feature\n",
    "geo_by_size_spenders(\"geoNetwork.country\")\n",
    "\n",
    "\n",
    "# Countries that have google\n",
    "google_at_north_america = [\"United States\",\"Canada\"]\n",
    "google_at_latin_america = [\"Brazil\",\"Colombia\",\"Argentina\",\"Mexico\",\"Chile\"]\n",
    "google_at_europe = [\"Denmark\",\"Netherlands\",\"Greece\",\"Germany\",\n",
    "                    \"Belgium\",\"Ireland\",\"Portugal\",\"United Kingdom\",\n",
    "                   \"Spain\",\"Italy\",\"Russia\",\"Norway\",\"France\",\"Czech Republic\",\n",
    "                    \"Sweden\",\"Austria\",\"Poland\",\"Switzerland\"]\n",
    "google_at_asia = [\"India\",\"Thailand\",\"China\",\"India\",\"Hong Kong\",\n",
    "                 \"Indonesia\",\"Malaysia\",\"Australia\",\"South Korea\",\"Singapore\",\n",
    "                 \"Taiwan\",\"Japan\"]\n",
    "google_at_middle_east = [\"United Arab Emirates\",\"Israel\",\"Turkey\",\"South Africa\"]\n",
    "\n",
    "# Manual OHE       \n",
    "manual_ohe(\"geoNetwork.country\",google_at_north_america,\"google_at_north_america\")\n",
    "manual_ohe(\"geoNetwork.country\",google_at_latin_america,\"google_at_latin_america\")\n",
    "manual_ohe(\"geoNetwork.country\",google_at_europe,\"google_at_europe\")\n",
    "manual_ohe(\"geoNetwork.country\",google_at_asia,\"google_at_asia\")\n",
    "manual_ohe(\"geoNetwork.country\",google_at_middle_east,\"google_at_middle_east\")\n",
    "\n",
    "# Sum of all\n",
    "train[\"geoNetwork.country__has_google\"] = train[\"geoNetwork.country__google_at_north_america\"]+ train[\"geoNetwork.country__google_at_latin_america\"] + train[\"geoNetwork.country__google_at_europe\"] +train[\"geoNetwork.country__google_at_asia\"] + train[\"geoNetwork.country__google_at_middle_east\"] \n",
    "test[\"geoNetwork.country__has_google\"] = test[\"geoNetwork.country__google_at_north_america\"]+ test[\"geoNetwork.country__google_at_latin_america\"]  + test[\"geoNetwork.country__google_at_europe\"] +test[\"geoNetwork.country__google_at_asia\"] + test[\"geoNetwork.country__google_at_middle_east\"] \n",
    "\n"
   ]
  },
  {
   "cell_type": "markdown",
   "metadata": {},
   "source": [
    "##  geoNetwork.metro & subContinent\n",
    "\n",
    "We will let categorical Feature selection handle these feature"
   ]
  },
  {
   "cell_type": "markdown",
   "metadata": {},
   "source": [
    "##  geoNetwork.region"
   ]
  },
  {
   "cell_type": "code",
   "execution_count": 16,
   "metadata": {},
   "outputs": [
    {
     "name": "stdout",
     "output_type": "stream",
     "text": [
      "Working on size for  geoNetwork.region\n",
      "Working on spending for  geoNetwork.region\n",
      "Making Features size features for  geoNetwork.region\n",
      "Making Features spending features for  geoNetwork.region\n"
     ]
    }
   ],
   "source": [
    "# Make geo by size feature\n",
    "geo_by_size_spenders(\"geoNetwork.region\")"
   ]
  },
  {
   "cell_type": "code",
   "execution_count": 17,
   "metadata": {},
   "outputs": [
    {
     "name": "stdout",
     "output_type": "stream",
     "text": [
      " Train shape is (903653, 71) and test shape is (804684, 71)\n"
     ]
    },
    {
     "data": {
      "text/plain": [
       "Index(['channelGrouping', 'fullVisitorId', 'sessionId', 'visitId',\n",
       "       'visitNumber', 'device.browser', 'device.deviceCategory',\n",
       "       'device.isMobile', 'device.operatingSystem', 'geoNetwork.city',\n",
       "       'geoNetwork.continent', 'geoNetwork.country', 'geoNetwork.metro',\n",
       "       'geoNetwork.networkDomain', 'geoNetwork.region',\n",
       "       'geoNetwork.subContinent', 'totals.bounces', 'totals.hits',\n",
       "       'totals.newVisits', 'totals.pageviews', 'totals.transactionRevenue',\n",
       "       'trafficSource.adContent', 'trafficSource.campaign',\n",
       "       'trafficSource.isTrueDirect', 'trafficSource.keyword',\n",
       "       'trafficSource.medium', 'trafficSource.referralPath',\n",
       "       'trafficSource.source', 'sess_date_dow', 'sess_date_hours',\n",
       "       'sess_date_dom', 'device.operatingSystem__Bucket',\n",
       "       'device.operatingSystem__Linux', 'device.operatingSystem__Macintosh',\n",
       "       'device.operatingSystem__iOS', 'device.operatingSystem__Windows',\n",
       "       'device.operatingSystem__Android', 'device.operatingSystem__Chrome_OS',\n",
       "       'device.operatingSystem__Apple', 'device.operatingSystem__Google',\n",
       "       'geoNetwork.city__top_10_size', 'geoNetwork.city__top_25_size',\n",
       "       'geoNetwork.city__top_50_size', 'geoNetwork.city__top_10_spenders',\n",
       "       'geoNetwork.city__top_25_spenders', 'geoNetwork.city__top_50_spenders',\n",
       "       'geoNetwork.city__silicon_valey',\n",
       "       'geoNetwork.city__google_at_north_america',\n",
       "       'geoNetwork.city__google_at_latin_america',\n",
       "       'geoNetwork.city__google_at_europe', 'geoNetwork.city__google_at_asia',\n",
       "       'geoNetwork.city__google_at_middle_east', 'geoNetwork.city__has_google',\n",
       "       'geoNetwork.country__top_10_size', 'geoNetwork.country__top_25_size',\n",
       "       'geoNetwork.country__top_50_size',\n",
       "       'geoNetwork.country__top_10_spenders',\n",
       "       'geoNetwork.country__top_25_spenders',\n",
       "       'geoNetwork.country__top_50_spenders',\n",
       "       'geoNetwork.country__google_at_north_america',\n",
       "       'geoNetwork.country__google_at_latin_america',\n",
       "       'geoNetwork.country__google_at_europe',\n",
       "       'geoNetwork.country__google_at_asia',\n",
       "       'geoNetwork.country__google_at_middle_east',\n",
       "       'geoNetwork.country__has_google', 'geoNetwork.region__top_10_size',\n",
       "       'geoNetwork.region__top_25_size', 'geoNetwork.region__top_50_size',\n",
       "       'geoNetwork.region__top_10_spenders',\n",
       "       'geoNetwork.region__top_25_spenders',\n",
       "       'geoNetwork.region__top_50_spenders'],\n",
       "      dtype='object')"
      ]
     },
     "execution_count": 17,
     "metadata": {},
     "output_type": "execute_result"
    }
   ],
   "source": [
    "print(f\" Train shape is {train.shape} and test shape is {test.shape}\")\n",
    "#train.columns"
   ]
  },
  {
   "cell_type": "markdown",
   "metadata": {},
   "source": [
    "# Automatic Feature Engineering "
   ]
  },
  {
   "cell_type": "code",
   "execution_count": 18,
   "metadata": {},
   "outputs": [],
   "source": [
    "# Remove Bad Columns \n",
    "cols_to_drop = [\"geoNetwork.networkDomain\",\"trafficSource.keyword\",\"trafficSource.referralPath\"]\n",
    "for each in [train,test]:\n",
    "    each.drop(cols_to_drop,axis=1,inplace=True)"
   ]
  },
  {
   "cell_type": "code",
   "execution_count": 19,
   "metadata": {},
   "outputs": [
    {
     "name": "stdout",
     "output_type": "stream",
     "text": [
      "Working on channelGrouping\n",
      "Working on device.browser\n",
      "Working on device.deviceCategory\n",
      "Working on device.operatingSystem\n",
      "Working on device.operatingSystem__Bucket\n",
      "Working on geoNetwork.city\n",
      "Working on geoNetwork.continent\n",
      "Working on geoNetwork.country\n",
      "Working on geoNetwork.metro\n",
      "Working on geoNetwork.region\n",
      "Working on geoNetwork.subContinent\n",
      "Working on trafficSource.adContent\n",
      "Working on trafficSource.campaign\n",
      "Working on trafficSource.medium\n",
      "Working on trafficSource.source\n",
      "changing channelGrouping\n",
      "changing device.browser\n",
      "changing device.deviceCategory\n",
      "changing device.operatingSystem\n",
      "changing geoNetwork.city\n",
      "changing geoNetwork.continent\n",
      "changing geoNetwork.country\n",
      "changing geoNetwork.metro\n",
      "changing geoNetwork.region\n",
      "changing geoNetwork.subContinent\n",
      "changing trafficSource.adContent\n"
     ]
    },
    {
     "name": "stderr",
     "output_type": "stream",
     "text": [
      "/anaconda3/lib/python3.6/site-packages/numpy/lib/arraysetops.py:468: FutureWarning: elementwise comparison failed; returning scalar instead, but in the future will perform elementwise comparison\n",
      "  mask &= (ar1 != a)\n"
     ]
    },
    {
     "name": "stdout",
     "output_type": "stream",
     "text": [
      "changing trafficSource.campaign\n",
      "changing trafficSource.medium\n",
      "changing trafficSource.source\n",
      "changing device.operatingSystem__Bucket\n",
      "changing channelGrouping\n",
      "changing device.browser\n",
      "changing device.deviceCategory\n",
      "changing device.operatingSystem\n",
      "changing geoNetwork.city\n",
      "changing geoNetwork.continent\n",
      "changing geoNetwork.country\n",
      "changing geoNetwork.metro\n",
      "changing geoNetwork.region\n",
      "changing geoNetwork.subContinent\n",
      "changing trafficSource.adContent\n",
      "changing trafficSource.campaign\n",
      "changing trafficSource.medium\n",
      "changing trafficSource.source\n",
      "changing device.operatingSystem__Bucket\n"
     ]
    }
   ],
   "source": [
    "from helper.CategoricalLevelSelector import CategoricalLevelSelection\n",
    "cls = CategoricalLevelSelection() \n",
    "cls.fit(train,key=\"fullVisitorId\",cols_to_ignore=[\"sessionId\",\"device.operatingSystem__Bucket\"],verbose=True)\n",
    "cols = ['channelGrouping', 'fullVisitorId', 'sessionId', 'visitId',\n",
    "       'visitNumber','device.browser',\n",
    "       'device.deviceCategory', 'device.operatingSystem', 'geoNetwork.city',\n",
    "       ]\n",
    "train = cls.transform(train,verbose=True)\n",
    "test = cls.transform(test,verbose=True)"
   ]
  },
  {
   "cell_type": "code",
   "execution_count": 20,
   "metadata": {},
   "outputs": [],
   "source": [
    "\n",
    "excluded_features = ['date', 'fullVisitorId', 'sessionId', \n",
    "                     'totals.transactionRevenue', \n",
    "                     'visitId', 'visitStartTime']\n",
    "\n",
    "categorical_features = [\n",
    "    _f for _f in train.columns\n",
    "    if (_f not in excluded_features) & (train[_f].dtype == 'O')]\n"
   ]
  },
  {
   "cell_type": "code",
   "execution_count": 21,
   "metadata": {},
   "outputs": [],
   "source": [
    "for f in categorical_features:\n",
    "    train[f], indexer = pd.factorize(train[f])\n",
    "    test[f] = indexer.get_indexer(test[f])"
   ]
  },
  {
   "cell_type": "code",
   "execution_count": 25,
   "metadata": {},
   "outputs": [
    {
     "data": {
      "text/plain": [
       "(804684, 68)"
      ]
     },
     "execution_count": 25,
     "metadata": {},
     "output_type": "execute_result"
    }
   ],
   "source": []
  },
  {
   "cell_type": "code",
   "execution_count": 23,
   "metadata": {},
   "outputs": [],
   "source": [
    "def get_folds(df=None, n_splits=5):\n",
    "    \"\"\"Returns dataframe indices corresponding to Visitors Group KFold from Oliver's Code\"\"\"\n",
    "    # Get sorted unique visitors\n",
    "    unique_vis = np.array(sorted(df['fullVisitorId'].unique()))\n",
    "\n",
    "    # Get folds\n",
    "    folds = GroupKFold(n_splits=n_splits)\n",
    "    fold_ids = []\n",
    "    ids = np.arange(df.shape[0])\n",
    "    for trn_vis, val_vis in folds.split(X=unique_vis, y=unique_vis, groups=unique_vis):\n",
    "        fold_ids.append(\n",
    "            [\n",
    "                ids[df['fullVisitorId'].isin(unique_vis[trn_vis])],\n",
    "                ids[df['fullVisitorId'].isin(unique_vis[val_vis])]\n",
    "            ]\n",
    "        )\n",
    "\n",
    "    return fold_ids"
   ]
  },
  {
   "cell_type": "code",
   "execution_count": null,
   "metadata": {},
   "outputs": [],
   "source": []
  }
 ],
 "metadata": {
  "kernelspec": {
   "display_name": "Python [conda env:anaconda3]",
   "language": "python",
   "name": "conda-env-anaconda3-py"
  },
  "language_info": {
   "codemirror_mode": {
    "name": "ipython",
    "version": 3
   },
   "file_extension": ".py",
   "mimetype": "text/x-python",
   "name": "python",
   "nbconvert_exporter": "python",
   "pygments_lexer": "ipython3",
   "version": "3.6.5"
  }
 },
 "nbformat": 4,
 "nbformat_minor": 2
}
